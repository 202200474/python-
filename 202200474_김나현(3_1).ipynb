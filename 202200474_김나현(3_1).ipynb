{
  "nbformat": 4,
  "nbformat_minor": 0,
  "metadata": {
    "colab": {
      "provenance": [],
      "collapsed_sections": [],
      "authorship_tag": "ABX9TyPOuSJxT/iXkF8J/PvxpD/K",
      "include_colab_link": true
    },
    "kernelspec": {
      "name": "python3",
      "display_name": "Python 3"
    },
    "language_info": {
      "name": "python"
    }
  },
  "cells": [
    {
      "cell_type": "markdown",
      "metadata": {
        "id": "view-in-github",
        "colab_type": "text"
      },
      "source": [
        "<a href=\"https://colab.research.google.com/github/202200474/python-/blob/main/202200474_%EA%B9%80%EB%82%98%ED%98%84(3_1).ipynb\" target=\"_parent\"><img src=\"https://colab.research.google.com/assets/colab-badge.svg\" alt=\"Open In Colab\"/></a>"
      ]
    },
    {
      "cell_type": "code",
      "execution_count": null,
      "metadata": {
        "colab": {
          "base_uri": "https://localhost:8080/"
        },
        "id": "g9wqJkN26G6t",
        "outputId": "45038ba8-88cd-4027-ee4e-b56ddce17cf8"
      },
      "outputs": [
        {
          "output_type": "stream",
          "name": "stdout",
          "text": [
            "x=6\n",
            "y=6\n",
            "x와 y는 같은 숫자이다.\n"
          ]
        }
      ],
      "source": [
        "#202200474 김나현\n",
        "\n",
        "x = input(\"x=\")\n",
        "y = input(\"y=\")\n",
        "def f(a,b) :\n",
        "  if int(a)%int(b) == 0 :\n",
        "    return 1\n",
        "  else :\n",
        "    return 0\n",
        "\n",
        "if x == y :\n",
        "  print(\"x와 y는 같은 숫자이다.\")\n",
        "\n",
        "else :\n",
        "  if f(x,y) == 1 :\n",
        "    print(\"y는 y의 약수이지만, x가 아니다.\")\n",
        "\n",
        "  elif f(y,x) == 1 :\n",
        "    print(\"x는 y의 약수이지만, y가 아니다.\")\n",
        "\n",
        "  else :\n",
        "    print(\"x와 y는 서로의 약수가 아니다.\")\n"
      ]
    }
  ]
}