{
  "nbformat": 4,
  "nbformat_minor": 0,
  "metadata": {
    "colab": {
      "provenance": [],
      "collapsed_sections": [],
      "authorship_tag": "ABX9TyPhzyf0g20GOHxgCaRaLwyi",
      "include_colab_link": true
    },
    "kernelspec": {
      "name": "python3",
      "display_name": "Python 3"
    },
    "language_info": {
      "name": "python"
    }
  },
  "cells": [
    {
      "cell_type": "markdown",
      "metadata": {
        "id": "view-in-github",
        "colab_type": "text"
      },
      "source": [
        "<a href=\"https://colab.research.google.com/github/202200474/python-/blob/main/202200474_%EA%B9%80%EB%82%98%ED%98%84_%EA%B3%BC%EC%A0%9C_2.ipynb\" target=\"_parent\"><img src=\"https://colab.research.google.com/assets/colab-badge.svg\" alt=\"Open In Colab\"/></a>"
      ]
    },
    {
      "cell_type": "code",
      "execution_count": null,
      "metadata": {
        "id": "ML3EOIYi3XUw",
        "colab": {
          "base_uri": "https://localhost:8080/"
        },
        "outputId": "2bb6af10-54a3-4c36-d8f1-828ce6d75346"
      },
      "outputs": [
        {
          "output_type": "stream",
          "name": "stdout",
          "text": [
            "자연수 한개를 입력하세요.2\n",
            "계속입력을 원하시면, 자연수 한 개를입력하시고, 아니라면 0을입력하세요.10\n",
            "계속입력을 원하시면, 자연수 한 개를입력하시고, 아니라면 0을입력하세요.78\n",
            "계속입력을 원하시면, 자연수 한 개를입력하시고, 아니라면 0을입력하세요.52\n",
            "계속입력을 원하시면, 자연수 한 개를입력하시고, 아니라면 0을입력하세요.0\n",
            "그만 입력하시고 싶으시군요.\n",
            "당신이 입력한 숫자는 큰 것부터 순서대로 말한다면 아래와 같습니다.\n",
            "78, 52, 10, 2\n"
          ]
        }
      ],
      "source": [
        "#202200474 김나현\n",
        "n = input (\"자연수 한개를 입력하세요.\")\n",
        "x=1\n",
        "y=[]\n",
        "\n",
        "while x <=100 :\n",
        "  if int(n) != 0 :\n",
        "    y=y+[int(n)]\n",
        "    n = input(\"계속입력을 원하시면, 자연수 한 개를입력하시고, 아니라면 0을입력하세요.\")\n",
        "    x+=1\n",
        "  else :\n",
        "    break\n",
        "\n",
        "if x <= 100 :\n",
        "  print(\"그만 입력하시고 싶으시군요.\")\n",
        "else :\n",
        "  print(\"이제 그만 입력하세요. 벌써 100개를 입력했어요.\")\n",
        "\n",
        "print(\"당신이 입력한 숫자는 큰 것부터 순서대로 말한다면 아래와 같습니다.\")\n",
        "\n",
        "for z in range(len(y)) :\n",
        "  w = len(y) - z\n",
        "  for k in range(1, w) :\n",
        "    if y[k-1] <= y[k] :\n",
        "      temp = y[k-1]\n",
        "      y[k-1] =y[k]\n",
        "      y[k] = temp\n",
        "\n",
        "v = str(y)[1:-1]\n",
        "print(v)"
      ]
    },
    {
      "cell_type": "code",
      "source": [
        "#202200474 김나현\n",
        "n = int(input())\n",
        "x = int(0)\n",
        "\n",
        "if n >= 31 :\n",
        "  print(\"너무 많습니다.\")\n",
        "else :\n",
        "  while x < n :\n",
        "    y=\"*\"*x\n",
        "    z=str(x+1)\n",
        "    print(y+z)\n",
        "    x+=1"
      ],
      "metadata": {
        "id": "DC7LdApF_Bhu",
        "colab": {
          "base_uri": "https://localhost:8080/"
        },
        "outputId": "68a8c4ea-1bc1-4d2c-ceb2-447d31e874dc"
      },
      "execution_count": null,
      "outputs": [
        {
          "output_type": "stream",
          "name": "stdout",
          "text": [
            "6\n",
            "1\n",
            "*2\n",
            "**3\n",
            "***4\n",
            "****5\n",
            "*****6\n"
          ]
        }
      ]
    },
    {
      "cell_type": "markdown",
      "source": [],
      "metadata": {
        "id": "XCXHVzou_CVy"
      }
    }
  ]
}